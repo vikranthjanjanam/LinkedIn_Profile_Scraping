{
 "cells": [
  {
   "cell_type": "code",
   "execution_count": 5,
   "id": "51b3d66f-d07b-43d4-a627-41d34d29090e",
   "metadata": {},
   "outputs": [],
   "source": [
    "import requests\n",
    "import string\n",
    "import random\n"
   ]
  },
  {
   "cell_type": "code",
   "execution_count": 6,
   "id": "3cb48bb4-80b4-4a8a-889a-784bbb17a609",
   "metadata": {},
   "outputs": [],
   "source": [
    "LINKEDIN_CLIENT_ID = '86fjndpv4dsdt2'  # todo - fill this field up\n",
    "LINKEDIN_CLIENT_SECRET = 'aI5dnFRe5Rjmd5kz'  # todo - fill this field up\n",
    "LINKEDIN_REDIRECT_URI = ''  # todo - fill this field up"
   ]
  },
  {
   "cell_type": "code",
   "execution_count": 11,
   "id": "2064a581-1e4a-42b9-b2ae-3134376aba43",
   "metadata": {},
   "outputs": [],
   "source": [
    "def get_access_token():\n",
    "    \"\"\"\n",
    "    If you are\n",
    "\n",
    "    1. an approved Linkedin developer\n",
    "    2. on a paid subscription to their Consumer Product\n",
    "\n",
    "    You can use this function to fetch an `access_token` to access the API.\n",
    "    \"\"\"\n",
    "    LI_ACCESS_TOKEN_EXCHANGE_URL = 'https://www.linkedin.com/oauth/v2/accessToken'\n",
    "    access_token = None\n",
    "    print(requests.post(LI_ACCESS_TOKEN_EXCHANGE_URL, params={\n",
    "        'grant_type': 'client_credentials',\n",
    "        'client_id': LINKEDIN_CLIENT_ID,\n",
    "        'client_secret': LINKEDIN_CLIENT_SECRET,\n",
    "    }).json())#['access_token']\n",
    "    return access_token"
   ]
  },
  {
   "cell_type": "code",
   "execution_count": 12,
   "id": "b6acf728-18d9-410e-96a6-605599755751",
   "metadata": {},
   "outputs": [],
   "source": [
    "def get_profile(access_token):\n",
    "    \"\"\"\n",
    "    Fetches the profile of a Linkedin user who has given you his permission to view his profile\n",
    "    \"\"\"\n",
    "    LI_PROFILE_API_ENDPOINT = 'https://api.linkedin.com/v2/me'\n",
    "    r = requests.get(LI_PROFILE_API_ENDPOINT, headers={\n",
    "                     'Authorization': 'Bearer ' + access_token})\n",
    "    return r.json()"
   ]
  },
  {
   "cell_type": "code",
   "execution_count": 13,
   "id": "5496d12e-616e-48d7-9cf3-77272c31f469",
   "metadata": {},
   "outputs": [
    {
     "name": "stdout",
     "output_type": "stream",
     "text": [
      "{'error': 'access_denied', 'error_description': 'This application is not allowed to create application tokens'}\n"
     ]
    }
   ],
   "source": [
    "access_token = get_access_token()"
   ]
  },
  {
   "cell_type": "code",
   "execution_count": null,
   "id": "6b9e7a3c-e6ab-4fc5-a4ca-14fe93a34c81",
   "metadata": {},
   "outputs": [],
   "source": []
  }
 ],
 "metadata": {
  "kernelspec": {
   "display_name": "Python 3",
   "language": "python",
   "name": "python3"
  },
  "language_info": {
   "codemirror_mode": {
    "name": "ipython",
    "version": 3
   },
   "file_extension": ".py",
   "mimetype": "text/x-python",
   "name": "python",
   "nbconvert_exporter": "python",
   "pygments_lexer": "ipython3",
   "version": "3.8.8"
  }
 },
 "nbformat": 4,
 "nbformat_minor": 5
}
